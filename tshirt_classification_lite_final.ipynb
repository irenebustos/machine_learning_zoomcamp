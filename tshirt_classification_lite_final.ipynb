{
 "cells": [
  {
   "cell_type": "markdown",
   "id": "98d12da4-2291-470a-9748-72d5052f0abf",
   "metadata": {},
   "source": [
    "Final interpreter"
   ]
  },
  {
   "cell_type": "code",
   "execution_count": 13,
   "id": "634b2dda-52fe-4877-b855-25709dbe5008",
   "metadata": {
    "execution": {
     "iopub.execute_input": "2024-12-27T11:48:31.605472Z",
     "iopub.status.busy": "2024-12-27T11:48:31.605109Z",
     "iopub.status.idle": "2024-12-27T11:48:32.659143Z",
     "shell.execute_reply": "2024-12-27T11:48:32.658533Z",
     "shell.execute_reply.started": "2024-12-27T11:48:31.605449Z"
    }
   },
   "outputs": [
    {
     "name": "stdout",
     "output_type": "stream",
     "text": [
      "Looking in indexes: https://pypi.org/simple, https://google-coral.github.io/py-repo/\n",
      "Requirement already satisfied: tflite-runtime in /opt/anaconda3/envs/ml-zoomcamp39/lib/python3.9/site-packages (2.5.0.post1)\n",
      "Requirement already satisfied: numpy>=1.16.0 in /opt/anaconda3/envs/ml-zoomcamp39/lib/python3.9/site-packages (from tflite-runtime) (1.23.5)\n"
     ]
    }
   ],
   "source": [
    "!pip install --extra-index-url https://google-coral.github.io/py-repo/ tflite-runtime"
   ]
  },
  {
   "cell_type": "code",
   "execution_count": 10,
   "id": "730ffcad",
   "metadata": {},
   "outputs": [],
   "source": [
    "import tflite_runtime.interpreter as tflite\n",
    "from keras_image_helper import create_preprocessor\n",
    "import numpy as np"
   ]
  },
  {
   "cell_type": "code",
   "execution_count": 11,
   "id": "924d3f3d",
   "metadata": {},
   "outputs": [
    {
     "ename": "AttributeError",
     "evalue": "module 'tflite_runtime.interpreter' has no attribute '__version__'",
     "output_type": "error",
     "traceback": [
      "\u001b[0;31m---------------------------------------------------------------------------\u001b[0m",
      "\u001b[0;31mAttributeError\u001b[0m                            Traceback (most recent call last)",
      "Cell \u001b[0;32mIn[11], line 2\u001b[0m\n\u001b[1;32m      1\u001b[0m \u001b[38;5;66;03m# see the version of the tflite_runtime\u001b[39;00m\n\u001b[0;32m----> 2\u001b[0m \u001b[38;5;28mprint\u001b[39m(\u001b[43mtflite\u001b[49m\u001b[38;5;241;43m.\u001b[39;49m\u001b[43m__version__\u001b[49m)\n",
      "\u001b[0;31mAttributeError\u001b[0m: module 'tflite_runtime.interpreter' has no attribute '__version__'"
     ]
    }
   ],
   "source": [
    "# see the version of the tflite_runtime\n",
    "print(tflite.__version__)"
   ]
  },
  {
   "cell_type": "code",
   "execution_count": 3,
   "id": "435f57c0",
   "metadata": {},
   "outputs": [],
   "source": [
    "interpreter = tflite.Interpreter(model_path='clothing-model.tflite')\n",
    "interpreter.allocate_tensors()\n",
    "\n",
    "input_index = interpreter.get_input_details()[0]['index']\n",
    "output_index = interpreter.get_output_details()[0]['index']"
   ]
  },
  {
   "cell_type": "code",
   "execution_count": 4,
   "id": "fe7d8556-b0e6-44d7-8368-63cf04c45bba",
   "metadata": {
    "execution": {
     "iopub.execute_input": "2024-12-27T11:27:55.181990Z",
     "iopub.status.busy": "2024-12-27T11:27:55.181343Z",
     "iopub.status.idle": "2024-12-27T11:27:55.184746Z",
     "shell.execute_reply": "2024-12-27T11:27:55.184287Z",
     "shell.execute_reply.started": "2024-12-27T11:27:55.181971Z"
    }
   },
   "outputs": [],
   "source": [
    "preprocessor = create_preprocessor('xception', target_size=(299,299))"
   ]
  },
  {
   "cell_type": "code",
   "execution_count": 5,
   "id": "024eddeb-b204-4a79-a2a7-329764fd4e6d",
   "metadata": {
    "execution": {
     "iopub.execute_input": "2024-12-27T11:27:55.185566Z",
     "iopub.status.busy": "2024-12-27T11:27:55.185336Z",
     "iopub.status.idle": "2024-12-27T11:27:55.347728Z",
     "shell.execute_reply": "2024-12-27T11:27:55.347290Z",
     "shell.execute_reply.started": "2024-12-27T11:27:55.185546Z"
    }
   },
   "outputs": [],
   "source": [
    "url = 'http://bit.ly/mlbookcamp-pants'\n",
    "X = preprocessor.from_url(url) # also there is anoption to use from_path"
   ]
  },
  {
   "cell_type": "code",
   "execution_count": 6,
   "id": "e81fc4f9-cd44-41a1-ad5c-277341dcac7a",
   "metadata": {
    "execution": {
     "iopub.execute_input": "2024-12-27T11:27:55.348995Z",
     "iopub.status.busy": "2024-12-27T11:27:55.348400Z",
     "iopub.status.idle": "2024-12-27T11:27:55.593296Z",
     "shell.execute_reply": "2024-12-27T11:27:55.592795Z",
     "shell.execute_reply.started": "2024-12-27T11:27:55.348972Z"
    }
   },
   "outputs": [],
   "source": [
    "interpreter.set_tensor(input_index,X)\n",
    "interpreter.invoke()\n",
    "preds = interpreter.get_tensor(output_index)"
   ]
  },
  {
   "cell_type": "code",
   "execution_count": 7,
   "id": "52b17a05-06bd-4a90-bf6a-263807c1ad0e",
   "metadata": {
    "execution": {
     "iopub.execute_input": "2024-12-27T11:27:55.594212Z",
     "iopub.status.busy": "2024-12-27T11:27:55.593966Z",
     "iopub.status.idle": "2024-12-27T11:27:55.597335Z",
     "shell.execute_reply": "2024-12-27T11:27:55.596806Z",
     "shell.execute_reply.started": "2024-12-27T11:27:55.594194Z"
    }
   },
   "outputs": [],
   "source": [
    "classes = [\n",
    "    'dress',\n",
    "    'hat',\n",
    "    'longsleeve',\n",
    "    'outwear',\n",
    "    'pants',\n",
    "    'shirt',\n",
    "    'shoes',\n",
    "    'shorts',\n",
    "    'skirt',\n",
    "    't-shirt'\n",
    "]"
   ]
  },
  {
   "cell_type": "code",
   "execution_count": 8,
   "id": "ba71b314-f733-49e0-ab65-1f01dfa919f2",
   "metadata": {
    "execution": {
     "iopub.execute_input": "2024-12-27T11:27:55.598704Z",
     "iopub.status.busy": "2024-12-27T11:27:55.598430Z",
     "iopub.status.idle": "2024-12-27T11:27:55.601985Z",
     "shell.execute_reply": "2024-12-27T11:27:55.601491Z",
     "shell.execute_reply.started": "2024-12-27T11:27:55.598682Z"
    }
   },
   "outputs": [],
   "source": [
    "dict_original = dict(zip(classes, preds[0]))"
   ]
  },
  {
   "cell_type": "code",
   "execution_count": 9,
   "id": "11417452-5072-4a5b-a131-aac5e32f03c7",
   "metadata":